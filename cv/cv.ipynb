{
 "cells": [
  {
   "cell_type": "code",
   "execution_count": 33,
   "metadata": {},
   "outputs": [
    {
     "name": "stdout",
     "output_type": "stream",
     "text": [
      "\u001b[33mWARNING: Running pip as the 'root' user can result in broken permissions and conflicting behaviour with the system package manager. It is recommended to use a virtual environment instead: https://pip.pypa.io/warnings/venv\u001b[0m\u001b[33m\n",
      "\u001b[0m"
     ]
    }
   ],
   "source": [
    "!pip install torchmetrics -q"
   ]
  },
  {
   "cell_type": "code",
   "execution_count": 34,
   "metadata": {},
   "outputs": [],
   "source": [
    "# import dependencies\n",
    "import torch\n",
    "import torch.nn as nn\n",
    "import torch.nn.functional as F\n",
    "import torch.optim as optim\n",
    "import torchvision\n",
    "import torchmetrics\n",
    "from torch.utils.data import Dataset, DataLoader"
   ]
  },
  {
   "cell_type": "code",
   "execution_count": 8,
   "metadata": {},
   "outputs": [
    {
     "data": {
      "text/plain": [
       "'\\nThe fashion MNIST dataset is a dataset of Zalando\\'s article images consisting of a training set of 60,000 examples and a test set of 10,000 examples.\\nEach example is a 28x28 grayscale image, associated with a label from 10 classes. Fashion-MNIST is intended to serve as a direct drop-in replacement \\nof the original MNIST dataset for benchmarking machine learning algorithms. It shares the same image size and structure of training and testing splits.\\nThe original MNIST dataset contains a lot of handwritten digits. Members of the AI/ML/Data Science community love this dataset and use it as a benchmark\\nto validate their algorithms. In fact, MNIST is often the first dataset researchers try. \"If it doesn\\'t work on MNIST, it won\\'t work at all\", they said.\\n\"Well, if it does work on MNIST, it may still fail on others.\"\\nZalando seeks to replace the original MNIST dataset \\n'"
      ]
     },
     "execution_count": 8,
     "metadata": {},
     "output_type": "execute_result"
    }
   ],
   "source": [
    "\"\"\"\n",
    "The fashion MNIST dataset is a dataset of Zalando's article images consisting of a training set of 60,000 examples and a test set of 10,000 examples.\n",
    "Each example is a 28x28 grayscale image, associated with a label from 10 classes. Fashion-MNIST is intended to serve as a direct drop-in replacement \n",
    "of the original MNIST dataset for benchmarking machine learning algorithms. It shares the same image size and structure of training and testing splits.\n",
    "\n",
    "The original MNIST dataset contains a lot of handwritten digits. Members of the AI/ML/Data Science community love this dataset and use it as a benchmark\n",
    "to validate their algorithms. In fact, MNIST is often the first dataset researchers try. \"If it doesn't work on MNIST, it won't work at all\", they said.\n",
    "\"Well, if it does work on MNIST, it may still fail on others.\"\n",
    "Zalando seeks to replace the original MNIST dataset \n",
    "\"\"\""
   ]
  },
  {
   "cell_type": "code",
   "execution_count": 4,
   "metadata": {},
   "outputs": [
    {
     "name": "stdout",
     "output_type": "stream",
     "text": [
      "Downloading http://fashion-mnist.s3-website.eu-central-1.amazonaws.com/train-images-idx3-ubyte.gz\n",
      "Downloading http://fashion-mnist.s3-website.eu-central-1.amazonaws.com/train-images-idx3-ubyte.gz to ./data/FashionMNIST/raw/train-images-idx3-ubyte.gz\n"
     ]
    },
    {
     "data": {
      "application/vnd.jupyter.widget-view+json": {
       "model_id": "bfec1ef1d9b24a41adb5ddac8cda0c13",
       "version_major": 2,
       "version_minor": 0
      },
      "text/plain": [
       "  0%|          | 0/26421880 [00:00<?, ?it/s]"
      ]
     },
     "metadata": {},
     "output_type": "display_data"
    },
    {
     "name": "stdout",
     "output_type": "stream",
     "text": [
      "Extracting ./data/FashionMNIST/raw/train-images-idx3-ubyte.gz to ./data/FashionMNIST/raw\n",
      "\n",
      "Downloading http://fashion-mnist.s3-website.eu-central-1.amazonaws.com/train-labels-idx1-ubyte.gz\n",
      "Downloading http://fashion-mnist.s3-website.eu-central-1.amazonaws.com/train-labels-idx1-ubyte.gz to ./data/FashionMNIST/raw/train-labels-idx1-ubyte.gz\n"
     ]
    },
    {
     "data": {
      "application/vnd.jupyter.widget-view+json": {
       "model_id": "039f3ebb98dc4d298a977758b75ae584",
       "version_major": 2,
       "version_minor": 0
      },
      "text/plain": [
       "  0%|          | 0/29515 [00:00<?, ?it/s]"
      ]
     },
     "metadata": {},
     "output_type": "display_data"
    },
    {
     "name": "stdout",
     "output_type": "stream",
     "text": [
      "Extracting ./data/FashionMNIST/raw/train-labels-idx1-ubyte.gz to ./data/FashionMNIST/raw\n",
      "\n",
      "Downloading http://fashion-mnist.s3-website.eu-central-1.amazonaws.com/t10k-images-idx3-ubyte.gz\n",
      "Downloading http://fashion-mnist.s3-website.eu-central-1.amazonaws.com/t10k-images-idx3-ubyte.gz to ./data/FashionMNIST/raw/t10k-images-idx3-ubyte.gz\n"
     ]
    },
    {
     "data": {
      "application/vnd.jupyter.widget-view+json": {
       "model_id": "77f8a5e4ac2c4925a90a764e7d45bd69",
       "version_major": 2,
       "version_minor": 0
      },
      "text/plain": [
       "  0%|          | 0/4422102 [00:00<?, ?it/s]"
      ]
     },
     "metadata": {},
     "output_type": "display_data"
    },
    {
     "name": "stdout",
     "output_type": "stream",
     "text": [
      "Extracting ./data/FashionMNIST/raw/t10k-images-idx3-ubyte.gz to ./data/FashionMNIST/raw\n",
      "\n",
      "Downloading http://fashion-mnist.s3-website.eu-central-1.amazonaws.com/t10k-labels-idx1-ubyte.gz\n",
      "Downloading http://fashion-mnist.s3-website.eu-central-1.amazonaws.com/t10k-labels-idx1-ubyte.gz to ./data/FashionMNIST/raw/t10k-labels-idx1-ubyte.gz\n"
     ]
    },
    {
     "data": {
      "application/vnd.jupyter.widget-view+json": {
       "model_id": "293cf2c74dd546c486899fd53fde23d0",
       "version_major": 2,
       "version_minor": 0
      },
      "text/plain": [
       "  0%|          | 0/5148 [00:00<?, ?it/s]"
      ]
     },
     "metadata": {},
     "output_type": "display_data"
    },
    {
     "name": "stdout",
     "output_type": "stream",
     "text": [
      "Extracting ./data/FashionMNIST/raw/t10k-labels-idx1-ubyte.gz to ./data/FashionMNIST/raw\n",
      "\n"
     ]
    }
   ],
   "source": [
    "# downlaod data\n",
    "training = torchvision.datasets.FashionMNIST(root = \"./data\", \n",
    "                                             train = True, \n",
    "                                             download = True, \n",
    "                                             transform = torchvision.transforms.ToTensor())\n",
    "\n",
    "testing = torchvision.datasets.FashionMNIST(root = \"./data\", \n",
    "                                            train = False, \n",
    "                                            download = True, \n",
    "                                            transform = torchvision.transforms.ToTensor())"
   ]
  },
  {
   "cell_type": "code",
   "execution_count": 21,
   "metadata": {},
   "outputs": [
    {
     "name": "stdout",
     "output_type": "stream",
     "text": [
      "Training Data:  Dataset FashionMNIST\n",
      "    Number of datapoints: 60000\n",
      "    Root location: ./data\n",
      "    Split: Train\n",
      "    StandardTransform\n",
      "Transform: ToTensor() \n",
      "\n",
      "Testing Data:  Dataset FashionMNIST\n",
      "    Number of datapoints: 10000\n",
      "    Root location: ./data\n",
      "    Split: Test\n",
      "    StandardTransform\n",
      "Transform: ToTensor()\n"
     ]
    }
   ],
   "source": [
    "# check data\n",
    "print(\"Training Data: \", training, '\\n')\n",
    "print(\"Testing Data: \", testing)"
   ]
  },
  {
   "cell_type": "code",
   "execution_count": 19,
   "metadata": {},
   "outputs": [
    {
     "data": {
      "image/png": "[encoded data removed]",
      "text/plain": [
       "<Figure size 1000x1000 with 10 Axes>"
      ]
     },
     "metadata": {},
     "output_type": "display_data"
    }
   ],
   "source": [
    "# print few images to see what they look like\n",
    "import matplotlib.pyplot as plt\n",
    "import numpy as np\n",
    "\n",
    "# plot 10 images with labels\n",
    "figure = plt.figure(figsize = (10, 10))\n",
    "for i in range(1, 11):\n",
    "    plt.subplot(5, 5, i)\n",
    "    plt.xticks([])\n",
    "    plt.yticks([])\n",
    "    plt.grid(False)\n",
    "    plt.imshow(training[i][0].squeeze(), cmap = plt.cm.binary)\n",
    "    plt.xlabel(training[i][1])"
   ]
  },
  {
   "cell_type": "code",
   "execution_count": 20,
   "metadata": {},
   "outputs": [
    {
     "name": "stdout",
     "output_type": "stream",
     "text": [
      "938\n",
      "157\n"
     ]
    }
   ],
   "source": [
    "# create data loaders\n",
    "train_loader = DataLoader(training, \n",
    "                          batch_size = 64, \n",
    "                          shuffle = True, \n",
    "                          num_workers = 4)\n",
    "\n",
    "test_loader = DataLoader(testing, \n",
    "                         batch_size = 64, \n",
    "                         shuffle = True, \n",
    "                         num_workers = 4)\n",
    "\n",
    "# check dataloaders dimensions\n",
    "print(len(train_loader))\n",
    "print(len(test_loader))"
   ]
  },
  {
   "cell_type": "code",
   "execution_count": 22,
   "metadata": {},
   "outputs": [],
   "source": [
    "# create device agnostic code\n",
    "device = \"cuda\" if torch.cuda.is_available() else \"cpu\""
   ]
  },
  {
   "cell_type": "code",
   "execution_count": 40,
   "metadata": {},
   "outputs": [],
   "source": [
    "# create a model\n",
    "class FashionMNIST(nn.Module):\n",
    "    def __init__(self, input_size, output_size):\n",
    "        super().__init__()\n",
    "        self.big_layer = nn.Sequential(nn.Flatten(),\n",
    "                                       nn.Linear(input_size, 128),\n",
    "                                       nn.ReLU(),\n",
    "                                       nn.Linear(128, 64),\n",
    "                                       nn.ReLU(),\n",
    "                                       nn.Linear(64, output_size),\n",
    "        )\n",
    "\n",
    "    def forward(self, x):\n",
    "        return self.big_layer(x)\n",
    "    \n",
    "# create model instance\n",
    "model = FashionMNIST(784, 10).to(device) # 784 is the size of the image, 10 is the number of classes\n",
    "\n",
    "# loss function\n",
    "loss_fn = nn.CrossEntropyLoss()\n",
    "\n",
    "# optimizer\n",
    "optimizer = torch.optim.Adam(model.parameters(),\n",
    "                             lr = 0.01)\n",
    "\n",
    "# Accuracy function from torchmetrics\n",
    "accuracy = torchmetrics.Accuracy(task = \"multiclass\",\n",
    "                                 num_classes = 10,\n",
    ").to(device)\n",
    "                                 \n"
   ]
  },
  {
   "cell_type": "code",
   "execution_count": 24,
   "metadata": {},
   "outputs": [
    {
     "name": "stdout",
     "output_type": "stream",
     "text": [
      "FashionMNIST(\n",
      "  (big_layer): Sequential(\n",
      "    (0): Flatten(start_dim=1, end_dim=-1)\n",
      "    (1): Linear(in_features=784, out_features=128, bias=True)\n",
      "    (2): ReLU()\n",
      "    (3): Linear(in_features=128, out_features=64, bias=True)\n",
      "    (4): ReLU()\n",
      "    (5): Linear(in_features=64, out_features=10, bias=True)\n",
      "  )\n",
      ")\n"
     ]
    }
   ],
   "source": [
    "# check model\n",
    "print(model)"
   ]
  },
  {
   "cell_type": "code",
   "execution_count": 66,
   "metadata": {},
   "outputs": [],
   "source": [
    "from tqdm.auto import tqdm # for progress bar\n",
    "\n",
    "# def training function\n",
    "def train(model, train_loader, optimizer, loss_fn, accuracy_fn):\n",
    "    accuracy = accuracy_fn\n",
    "\n",
    "    # total loss and accuaracy\n",
    "    train_loss = 0\n",
    "    train_acc = 0\n",
    "\n",
    "    print(f\"Epoch: {epoch} --------------------------\")\n",
    "    for batch, (x, y) in enumerate(train_loader):\n",
    "        # reset accuaracy\n",
    "        accuracy.reset()\n",
    "        x, y = x.to(device), y.to(device)\n",
    "\n",
    "        # forward pass\n",
    "        y_pred = model(x)\n",
    "\n",
    "        # calculate loss\n",
    "        loss = loss_fn(y_pred, y)\n",
    "        train_loss += loss\n",
    "\n",
    "        # calculate accuracy\n",
    "        acc = accuracy(y_pred, y)\n",
    "        train_acc += acc\n",
    "\n",
    "        # zero grad\n",
    "        optimizer.zero_grad()\n",
    "\n",
    "        # loss backward\n",
    "        loss.backward()\n",
    "\n",
    "        # gradient descent\n",
    "        optimizer.step()\n",
    "\n",
    "    # get total loss and accuaracy\n",
    "    train_loss /= len(train_loader)\n",
    "    train_acc /= len(train_loader)\n",
    "\n",
    "    # print loss and accuracy\n",
    "    print(f\"Train Loss: {train_loss:.4f} | Train Accuracy: {train_acc:.4f}\")\n",
    "\n",
    "\n",
    "def test(model, test_loader, loss_fn, accuracy_fn):\n",
    "    # total loss and accuaracy\n",
    "    test_loss, test_acc = 0, 0\n",
    "    accuracy = accuracy_fn\n",
    "\n",
    "    # test model\n",
    "    model.eval()\n",
    "    with torch.inference_mode():\n",
    "        for batch, (x_test, y_test) in enumerate(test_loader):\n",
    "            x_test, y_test = x_test.to(device), y_test.to(device)\n",
    "\n",
    "            # forward pass\n",
    "            y_pred_test = model(x_test)\n",
    "\n",
    "            # calculate loss\n",
    "            test_loss += loss_fn(y_pred_test, y_test)\n",
    "\n",
    "            # calculate accuracy\n",
    "            test_acc += accuracy(y_pred_test, y_test)\n",
    "\n",
    "        # get total loss and accuaracy\n",
    "        test_loss /= len(test_loader)\n",
    "        test_acc /= len(test_loader)\n",
    "\n",
    "    # print loss and accuracy\n",
    "    print(f\"Test Loss: {test_loss:.4f} | Test Accuracy: {test_acc:.4f}\")\n"
   ]
  },
  {
   "cell_type": "code",
   "execution_count": 67,
   "metadata": {},
   "outputs": [
    {
     "data": {
      "application/vnd.jupyter.widget-view+json": {
       "model_id": "96fda998dc824312a772c427e5d84da0",
       "version_major": 2,
       "version_minor": 0
      },
      "text/plain": [
       "  0%|          | 0/10 [00:00<?, ?it/s]"
      ]
     },
     "metadata": {},
     "output_type": "display_data"
    },
    {
     "name": "stdout",
     "output_type": "stream",
     "text": [
      "Epoch: 0 --------------------------\n",
      "Train Loss: 0.2485 | Train Accuracy: 0.9127\n",
      "Test Loss: 0.4981 | Test Accuracy: 0.8697\n",
      "Epoch: 1 --------------------------\n",
      "Train Loss: 0.2498 | Train Accuracy: 0.9120\n",
      "Test Loss: 0.4923 | Test Accuracy: 0.8668\n",
      "Epoch: 2 --------------------------\n",
      "Train Loss: 0.2577 | Train Accuracy: 0.9115\n",
      "Test Loss: 0.5248 | Test Accuracy: 0.8736\n",
      "Epoch: 3 --------------------------\n",
      "Train Loss: 0.2500 | Train Accuracy: 0.9124\n",
      "Test Loss: 0.4930 | Test Accuracy: 0.8777\n",
      "Epoch: 4 --------------------------\n",
      "Train Loss: 0.2456 | Train Accuracy: 0.9134\n",
      "Test Loss: 0.4809 | Test Accuracy: 0.8730\n",
      "Epoch: 5 --------------------------\n",
      "Train Loss: 0.2442 | Train Accuracy: 0.9130\n",
      "Test Loss: 0.5784 | Test Accuracy: 0.8434\n",
      "Epoch: 6 --------------------------\n",
      "Train Loss: 0.2502 | Train Accuracy: 0.9132\n",
      "Test Loss: 0.4816 | Test Accuracy: 0.8721\n",
      "Epoch: 7 --------------------------\n",
      "Train Loss: 0.2489 | Train Accuracy: 0.9123\n",
      "Test Loss: 0.5584 | Test Accuracy: 0.8591\n",
      "Epoch: 8 --------------------------\n",
      "Train Loss: 0.2611 | Train Accuracy: 0.9117\n",
      "Test Loss: 0.4721 | Test Accuracy: 0.8683\n",
      "Epoch: 9 --------------------------\n",
      "Train Loss: 0.2415 | Train Accuracy: 0.9159\n",
      "Test Loss: 0.5415 | Test Accuracy: 0.8681\n"
     ]
    }
   ],
   "source": [
    "# train and test model\n",
    "epochs = 10\n",
    "for epoch in tqdm(range(epochs)):\n",
    "    train(model, train_loader, optimizer, loss_fn, accuracy)\n",
    "    test(model, test_loader, loss_fn, accuracy)\n"
   ]
  }
 ],
 "metadata": {
  "kernelspec": {
   "display_name": "Python 3 (ipykernel)",
   "language": "python",
   "name": "python3"
  },
  "language_info": {
   "codemirror_mode": {
    "name": "ipython",
    "version": 3
   },
   "file_extension": ".py",
   "mimetype": "text/x-python",
   "name": "python",
   "nbconvert_exporter": "python",
   "pygments_lexer": "ipython3",
   "version": "3.9.16"
  }
 },
 "nbformat": 4,
 "nbformat_minor": 2
}
